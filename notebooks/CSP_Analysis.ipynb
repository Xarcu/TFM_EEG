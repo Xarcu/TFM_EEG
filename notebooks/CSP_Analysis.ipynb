{
 "cells": [
  {
   "cell_type": "markdown",
   "id": "99142ad2-c5ba-42de-a091-5727745f8e93",
   "metadata": {},
   "source": [
    "<div class=\"alert alert-block alert-success\">\n",
    "    <h1 style=\"margin-bottom:0.5cm\"><b>Final Master Thesis</b></h1>\n",
    "    <p style=\"margin-bottom:0.25cm\">Course 2024-2025: <b>Machine Learning study using Common Spatial Patterns (CSP) </b>\n",
    "    <br>\n",
    "        Master in Neuroengineering and Rehabilitation</p>\n",
    "    <b>Director Joan F. Alonso</b>\n",
    "    <br>\n",
    "    <b>Cootutor Andres El-Fakdi Sencianes</b>\n",
    "    <br>\n",
    "    <b> Student. Ferran Franco<b>\n",
    "    <br>\n",
    "    <br>\n",
    "</div>"
   ]
  },
  {
   "cell_type": "markdown",
   "id": "cf36288c-cf0e-44df-b0bc-c6750e2bb63b",
   "metadata": {},
   "source": [
    "<div class=\"alert alert-info\" role=\"alert\", style=\"border-radius: 70px\">\n",
    "    <h2 style=\"text-align: center; margin-top:0.5cm; margin-bottom:0.5cm; font-size:20px\">Features description</h2>\n",
    "</div>\n"
   ]
  },
  {
   "cell_type": "markdown",
   "id": "4d29d518-d4bc-44e2-ac78-8ceeceb863de",
   "metadata": {},
   "source": [
    "**Common Spatial Patterns (CSP)** is a signal processing technique used to extract features from EEG data, specifically for distinguishing between two conditions or mental states. CSP works by finding spatial filters that maximize the variance for one class while minimizing it for the other. The filters are derived from the covariance matrices of the EEG signals and are applied to transform the data into a low-dimensional feature space. [1] [2] [3] [4] [5] \n",
    "\n",
    "**How It Works:**\n",
    "\n",
    "Input Data: EEG signals from multiple channels.\n",
    "Covariance Calculation: Compute covariance matrices for each class.\n",
    "Decomposition: Solve a generalized eigenvalue problem to obtain spatial filters.\n",
    "Feature Extraction: Project EEG signals through the filters to create features representing class-specific variance.\n",
    "Selection: Select the most discriminative CSP features, typically the top and bottom few.\n",
    "\n",
    "**Application:**\n",
    "\n",
    "CSP is widely used in Brain-Computer Interface (BCI) systems, particularly for motor imagery tasks. It helps in classifying mental states like imagining left-hand versus right-hand movements, which is crucial for controlling assistive devices like robotic arms or communication systems for individuals with motor impairments.\n",
    "\n",
    "**Strengths:**\n",
    "\n",
    "Effective for binary classification problems with distinct spatial patterns in the EEG.\n",
    "Provides interpretable spatial filters that highlight the brain regions involved in the task.\n",
    "\n",
    "**Limitations:**\n",
    "\n",
    "Sensitive to noise and artifacts; requires pre-processing steps like artifact removal and band-pass filtering.\n",
    "Performance may degrade for multiclass problems without modification or extension (e.g., One-vs-Rest CSP).\n",
    "\n",
    "**Practical Use:**\n",
    "\n",
    "In practice, CSP is often combined with machine learning classifiers (e.g., Support Vector Machines or Logistic Regression) to build robust predictive models for classifying brain states. Its interpretability makes it valuable in neuroscience research for identifying neural correlates of specific tasks or conditions."
   ]
  },
  {
   "cell_type": "markdown",
   "id": "491fa8de-226a-4f26-9779-6c6903ed29f7",
   "metadata": {},
   "source": [
    "<div class=\"alert alert-info\" role=\"alert\", style=\"border-radius: 70px\">\n",
    "    <h2 style=\"text-align: center; margin-top:0.5cm; margin-bottom:0.5cm; font-size:20px\">Data loading</h2>\n",
    "</div>\n"
   ]
  },
  {
   "cell_type": "code",
   "execution_count": 1,
   "id": "76628fdc-2fee-4a06-aaf1-a28b763b5488",
   "metadata": {},
   "outputs": [],
   "source": [
    "import pandas as pd\n",
    "import numpy as np\n",
    "import seaborn as sns\n",
    "import matplotlib.pyplot as plt\n",
    "from sklearn.cluster import KMeans, AgglomerativeClustering, DBSCAN, OPTICS\n",
    "from sklearn.cluster import MeanShift, estimate_bandwidth\n",
    "from sklearn.mixture import GaussianMixture\n",
    "from scipy.cluster.hierarchy import dendrogram, linkage\n",
    "from sklearn.metrics import davies_bouldin_score, adjusted_mutual_info_score\n",
    "from sklearn.preprocessing import LabelEncoder, StandardScaler\n",
    "from yellowbrick.cluster import KElbowVisualizer, SilhouetteVisualizer\n",
    "from pathlib import Path\n",
    "from sklearn.impute import SimpleImputer\n",
    "from sklearn.model_selection import train_test_split\n",
    "from sklearn.tree import DecisionTreeClassifier, plot_tree\n",
    "from sklearn.neighbors import KNeighborsClassifier\n",
    "from sklearn.metrics import accuracy_score, precision_score, recall_score, roc_auc_score, classification_report, confusion_matrix, ConfusionMatrixDisplay\n",
    "import warnings\n",
    "warnings.filterwarnings('ignore')\n",
    "from sklearn.preprocessing import StandardScaler"
   ]
  },
  {
   "cell_type": "code",
   "execution_count": 2,
   "id": "6a6d9d45-e785-4c4e-9d77-24ef59ad7ade",
   "metadata": {},
   "outputs": [
    {
     "data": {
      "text/html": [
       "<div>\n",
       "<style scoped>\n",
       "    .dataframe tbody tr th:only-of-type {\n",
       "        vertical-align: middle;\n",
       "    }\n",
       "\n",
       "    .dataframe tbody tr th {\n",
       "        vertical-align: top;\n",
       "    }\n",
       "\n",
       "    .dataframe thead th {\n",
       "        text-align: right;\n",
       "    }\n",
       "</style>\n",
       "<table border=\"1\" class=\"dataframe\">\n",
       "  <thead>\n",
       "    <tr style=\"text-align: right;\">\n",
       "      <th></th>\n",
       "      <th>0</th>\n",
       "      <th>1</th>\n",
       "      <th>2</th>\n",
       "      <th>3</th>\n",
       "      <th>labels</th>\n",
       "    </tr>\n",
       "  </thead>\n",
       "  <tbody>\n",
       "    <tr>\n",
       "      <th>0</th>\n",
       "      <td>-8.970207</td>\n",
       "      <td>-5.814102</td>\n",
       "      <td>-1.600872</td>\n",
       "      <td>-3.990032</td>\n",
       "      <td>0</td>\n",
       "    </tr>\n",
       "    <tr>\n",
       "      <th>1</th>\n",
       "      <td>-8.459289</td>\n",
       "      <td>-6.881226</td>\n",
       "      <td>-0.962808</td>\n",
       "      <td>-3.042766</td>\n",
       "      <td>0</td>\n",
       "    </tr>\n",
       "    <tr>\n",
       "      <th>2</th>\n",
       "      <td>-7.268999</td>\n",
       "      <td>-7.202267</td>\n",
       "      <td>-0.570675</td>\n",
       "      <td>-2.788602</td>\n",
       "      <td>0</td>\n",
       "    </tr>\n",
       "    <tr>\n",
       "      <th>3</th>\n",
       "      <td>-7.548785</td>\n",
       "      <td>-8.008479</td>\n",
       "      <td>-0.473971</td>\n",
       "      <td>-2.247260</td>\n",
       "      <td>0</td>\n",
       "    </tr>\n",
       "    <tr>\n",
       "      <th>4</th>\n",
       "      <td>-7.978503</td>\n",
       "      <td>-6.571970</td>\n",
       "      <td>-0.217777</td>\n",
       "      <td>-1.962889</td>\n",
       "      <td>0</td>\n",
       "    </tr>\n",
       "    <tr>\n",
       "      <th>...</th>\n",
       "      <td>...</td>\n",
       "      <td>...</td>\n",
       "      <td>...</td>\n",
       "      <td>...</td>\n",
       "      <td>...</td>\n",
       "    </tr>\n",
       "    <tr>\n",
       "      <th>526</th>\n",
       "      <td>-5.309855</td>\n",
       "      <td>1.281223</td>\n",
       "      <td>-5.351755</td>\n",
       "      <td>-4.172692</td>\n",
       "      <td>1</td>\n",
       "    </tr>\n",
       "    <tr>\n",
       "      <th>527</th>\n",
       "      <td>-6.185504</td>\n",
       "      <td>1.341524</td>\n",
       "      <td>-5.214622</td>\n",
       "      <td>-3.978218</td>\n",
       "      <td>1</td>\n",
       "    </tr>\n",
       "    <tr>\n",
       "      <th>528</th>\n",
       "      <td>-5.839715</td>\n",
       "      <td>1.418595</td>\n",
       "      <td>-5.264759</td>\n",
       "      <td>-3.375307</td>\n",
       "      <td>1</td>\n",
       "    </tr>\n",
       "    <tr>\n",
       "      <th>529</th>\n",
       "      <td>-5.816517</td>\n",
       "      <td>1.482668</td>\n",
       "      <td>-5.282015</td>\n",
       "      <td>-3.439323</td>\n",
       "      <td>1</td>\n",
       "    </tr>\n",
       "    <tr>\n",
       "      <th>530</th>\n",
       "      <td>-5.943049</td>\n",
       "      <td>1.526564</td>\n",
       "      <td>-4.429534</td>\n",
       "      <td>-3.309673</td>\n",
       "      <td>1</td>\n",
       "    </tr>\n",
       "  </tbody>\n",
       "</table>\n",
       "<p>531 rows × 5 columns</p>\n",
       "</div>"
      ],
      "text/plain": [
       "            0         1         2         3  labels\n",
       "0   -8.970207 -5.814102 -1.600872 -3.990032       0\n",
       "1   -8.459289 -6.881226 -0.962808 -3.042766       0\n",
       "2   -7.268999 -7.202267 -0.570675 -2.788602       0\n",
       "3   -7.548785 -8.008479 -0.473971 -2.247260       0\n",
       "4   -7.978503 -6.571970 -0.217777 -1.962889       0\n",
       "..        ...       ...       ...       ...     ...\n",
       "526 -5.309855  1.281223 -5.351755 -4.172692       1\n",
       "527 -6.185504  1.341524 -5.214622 -3.978218       1\n",
       "528 -5.839715  1.418595 -5.264759 -3.375307       1\n",
       "529 -5.816517  1.482668 -5.282015 -3.439323       1\n",
       "530 -5.943049  1.526564 -4.429534 -3.309673       1\n",
       "\n",
       "[531 rows x 5 columns]"
      ]
     },
     "execution_count": 2,
     "metadata": {},
     "output_type": "execute_result"
    }
   ],
   "source": [
    "file_path = r\"C:\\Users\\Ferran\\Desktop\\TFM\\TFM_EEG\\DATASET\\MI\\SUB_2\\CSP\\csp_features_labels.parquet\"\n",
    "# Load the Parquet file\n",
    "data = pd.read_parquet(file_path)\n",
    "\n",
    "# Display the first few rows of the DataFrame\n",
    "data\n"
   ]
  },
  {
   "cell_type": "code",
   "execution_count": 3,
   "id": "91f2c6c8-e063-48b4-ab19-f107af7ef3e4",
   "metadata": {},
   "outputs": [
    {
     "name": "stdout",
     "output_type": "stream",
     "text": [
      "                                            features  labels\n",
      "0  [-8.970206963099939, -5.814101732578316, -1.60...       0\n",
      "1  [-8.459288841843614, -6.881225587150367, -0.96...       0\n",
      "2  [-7.268998690257758, -7.2022669476013315, -0.5...       0\n",
      "3  [-7.548785336588372, -8.00847867370834, -0.473...       0\n",
      "4  [-7.978503499265263, -6.571970018211304, -0.21...       0\n"
     ]
    }
   ],
   "source": [
    "# ADDED CODE WHEN WORKING WITH 4 FEATURES\n",
    "\n",
    "# Combine features into a single column\n",
    "data['features'] = data[['0', '1', '2', '3']].values.tolist()\n",
    "\n",
    "# Drop the individual feature columns\n",
    "data.drop(columns=['0', '1', '2', '3'], inplace=True)\n",
    "\n",
    "# Reorder columns so 'features' comes before 'labels'\n",
    "data = data[['features', 'labels']]\n",
    "\n",
    "# Check the resulting DataFrame\n",
    "print(data.head())\n"
   ]
  },
  {
   "cell_type": "code",
   "execution_count": 4,
   "id": "8b327ead-3dbf-4ba6-a343-7b51cd85588e",
   "metadata": {},
   "outputs": [],
   "source": [
    "# Flatten and handle inconsistent lengths\n",
    "# Assume the features are 2D or nested; we need to flatten them\n",
    "X = [np.ravel(feature) for feature in data['features']]\n",
    "\n",
    "\n",
    "# Find the maximum length of the flattened features\n",
    "max_length = max(len(x) for x in X)\n",
    "\n",
    "# Pad all feature arrays to the maximum length\n",
    "X_padded = np.array([np.pad(x, (0, max_length - len(x)), mode='constant') for x in X])\n",
    "\n",
    "# Extract labels\n",
    "y = data['labels']\n"
   ]
  },
  {
   "cell_type": "code",
   "execution_count": 5,
   "id": "7d6ea2a8-5c89-4523-af86-41ba6ae6b61a",
   "metadata": {},
   "outputs": [
    {
     "name": "stdout",
     "output_type": "stream",
     "text": [
      "Normalized features shape: (531, 4)\n"
     ]
    }
   ],
   "source": [
    "# Flatten each nested array within X_padded\n",
    "X_flattened = np.array([np.hstack(sample) for sample in X_padded])\n",
    "\n",
    "scaler = StandardScaler()\n",
    "X_scaled = scaler.fit_transform(X_flattened)\n",
    "\n",
    "print(\"Normalized features shape:\", X_scaled.shape)"
   ]
  },
  {
   "cell_type": "code",
   "execution_count": 6,
   "id": "b4c390db-55f5-4fee-9c00-8af67bd6bbd2",
   "metadata": {},
   "outputs": [
    {
     "name": "stdout",
     "output_type": "stream",
     "text": [
      "Shape of X_flattened: (531, 4)\n",
      "Example flattened element: [-8.97020696 -5.81410173 -1.60087189 -3.99003178]\n",
      "Shape of X_scaled: (531, 4)\n",
      "Example normalized element: [-1.39880571 -0.70962219  0.68889423 -0.30287675]\n"
     ]
    }
   ],
   "source": [
    "\n",
    "print(\"Shape of X_flattened:\", X_flattened.shape)\n",
    "print(\"Example flattened element:\", X_flattened[0])\n",
    "\n",
    "print(\"Shape of X_scaled:\", X_scaled.shape)\n",
    "print(\"Example normalized element:\", X_scaled[0])\n"
   ]
  },
  {
   "cell_type": "markdown",
   "id": "08d4fe7c-7628-4eaa-b478-1228521b66ff",
   "metadata": {},
   "source": [
    "<div class=\"alert alert-info\" role=\"alert\", style=\"border-radius: 70px\">\n",
    "    <h2 style=\"text-align: center; margin-top:0.5cm; margin-bottom:0.5cm; font-size:20px\">Training</h2>\n",
    "</div>\n"
   ]
  },
  {
   "cell_type": "code",
   "execution_count": 7,
   "id": "8cbd4879-86c8-4e20-90be-1dede7aaaf78",
   "metadata": {},
   "outputs": [],
   "source": [
    "# Split the data\n",
    "X_train, X_test, y_train, y_test = train_test_split(X_scaled, y, test_size=0.4, random_state=42)"
   ]
  },
  {
   "cell_type": "code",
   "execution_count": 8,
   "id": "9a44e233-5afe-4374-8ce8-7ddbb3a364d7",
   "metadata": {},
   "outputs": [
    {
     "name": "stdout",
     "output_type": "stream",
     "text": [
      "KNN Evaluation Metrics:\n",
      "Accuracy: 0.9953051643192489\n",
      "Precision: 0.9893617021276596\n",
      "Recall: 1.0\n",
      "ROC AUC: 0.9958333333333333\n"
     ]
    }
   ],
   "source": [
    "# Initialize the KNN model with 3 neighbors\n",
    "knn = KNeighborsClassifier(n_neighbors=3)\n",
    "\n",
    "# Train the model\n",
    "knn.fit(X_train, y_train)\n",
    "\n",
    "# Predict on the test set\n",
    "y_pred = knn.predict(X_test)\n",
    "y_pred_proba = knn.predict_proba(X_test)[:, 1]\n",
    "\n",
    "# Evaluate the model\n",
    "accuracy = accuracy_score(y_test, y_pred)\n",
    "precision = precision_score(y_test, y_pred)\n",
    "recall = recall_score(y_test, y_pred)\n",
    "roc_auc = roc_auc_score(y_test, y_pred_proba)\n",
    "\n",
    "# Print evaluation metrics\n",
    "print(\"KNN Evaluation Metrics:\")\n",
    "print(f\"Accuracy: {accuracy}\")\n",
    "print(f\"Precision: {precision}\")\n",
    "print(f\"Recall: {recall}\")\n",
    "print(f\"ROC AUC: {roc_auc}\")"
   ]
  },
  {
   "cell_type": "markdown",
   "id": "ef5ab314-176d-4b6d-a511-41c16a66f76e",
   "metadata": {},
   "source": [
    "<div class=\"alert alert-info\" role=\"alert\", style=\"border-radius: 70px\">\n",
    "    <h2 style=\"text-align: center; margin-top:0.5cm; margin-bottom:0.5cm; font-size:20px\">Validation</h2>\n",
    "</div>\n"
   ]
  },
  {
   "cell_type": "code",
   "execution_count": 9,
   "id": "fb7ca229-4d64-4e4f-b661-9d5a0a290fc5",
   "metadata": {},
   "outputs": [
    {
     "data": {
      "text/html": [
       "<div>\n",
       "<style scoped>\n",
       "    .dataframe tbody tr th:only-of-type {\n",
       "        vertical-align: middle;\n",
       "    }\n",
       "\n",
       "    .dataframe tbody tr th {\n",
       "        vertical-align: top;\n",
       "    }\n",
       "\n",
       "    .dataframe thead th {\n",
       "        text-align: right;\n",
       "    }\n",
       "</style>\n",
       "<table border=\"1\" class=\"dataframe\">\n",
       "  <thead>\n",
       "    <tr style=\"text-align: right;\">\n",
       "      <th></th>\n",
       "      <th>0</th>\n",
       "      <th>1</th>\n",
       "      <th>2</th>\n",
       "      <th>3</th>\n",
       "      <th>labels</th>\n",
       "    </tr>\n",
       "  </thead>\n",
       "  <tbody>\n",
       "    <tr>\n",
       "      <th>0</th>\n",
       "      <td>-1.865710</td>\n",
       "      <td>-0.581028</td>\n",
       "      <td>-1.404227</td>\n",
       "      <td>-2.259686</td>\n",
       "      <td>0</td>\n",
       "    </tr>\n",
       "    <tr>\n",
       "      <th>1</th>\n",
       "      <td>-3.938655</td>\n",
       "      <td>-0.290648</td>\n",
       "      <td>0.022313</td>\n",
       "      <td>-1.867312</td>\n",
       "      <td>0</td>\n",
       "    </tr>\n",
       "    <tr>\n",
       "      <th>2</th>\n",
       "      <td>-1.522297</td>\n",
       "      <td>-0.185051</td>\n",
       "      <td>-0.663755</td>\n",
       "      <td>-1.622028</td>\n",
       "      <td>0</td>\n",
       "    </tr>\n",
       "    <tr>\n",
       "      <th>3</th>\n",
       "      <td>-2.456481</td>\n",
       "      <td>0.465369</td>\n",
       "      <td>-1.577273</td>\n",
       "      <td>-1.419020</td>\n",
       "      <td>0</td>\n",
       "    </tr>\n",
       "    <tr>\n",
       "      <th>4</th>\n",
       "      <td>-1.144619</td>\n",
       "      <td>0.340678</td>\n",
       "      <td>-2.581693</td>\n",
       "      <td>-0.672561</td>\n",
       "      <td>0</td>\n",
       "    </tr>\n",
       "    <tr>\n",
       "      <th>...</th>\n",
       "      <td>...</td>\n",
       "      <td>...</td>\n",
       "      <td>...</td>\n",
       "      <td>...</td>\n",
       "      <td>...</td>\n",
       "    </tr>\n",
       "    <tr>\n",
       "      <th>235</th>\n",
       "      <td>-0.625473</td>\n",
       "      <td>-3.737695</td>\n",
       "      <td>-0.465147</td>\n",
       "      <td>-0.385898</td>\n",
       "      <td>1</td>\n",
       "    </tr>\n",
       "    <tr>\n",
       "      <th>236</th>\n",
       "      <td>-0.026311</td>\n",
       "      <td>-4.756718</td>\n",
       "      <td>-1.793464</td>\n",
       "      <td>-0.072237</td>\n",
       "      <td>1</td>\n",
       "    </tr>\n",
       "    <tr>\n",
       "      <th>237</th>\n",
       "      <td>0.661567</td>\n",
       "      <td>-4.479449</td>\n",
       "      <td>-3.114451</td>\n",
       "      <td>-0.627392</td>\n",
       "      <td>1</td>\n",
       "    </tr>\n",
       "    <tr>\n",
       "      <th>238</th>\n",
       "      <td>0.998966</td>\n",
       "      <td>-3.650153</td>\n",
       "      <td>-3.745219</td>\n",
       "      <td>-1.088343</td>\n",
       "      <td>1</td>\n",
       "    </tr>\n",
       "    <tr>\n",
       "      <th>239</th>\n",
       "      <td>0.877401</td>\n",
       "      <td>-1.853691</td>\n",
       "      <td>-3.329138</td>\n",
       "      <td>-1.109687</td>\n",
       "      <td>1</td>\n",
       "    </tr>\n",
       "  </tbody>\n",
       "</table>\n",
       "<p>240 rows × 5 columns</p>\n",
       "</div>"
      ],
      "text/plain": [
       "            0         1         2         3  labels\n",
       "0   -1.865710 -0.581028 -1.404227 -2.259686       0\n",
       "1   -3.938655 -0.290648  0.022313 -1.867312       0\n",
       "2   -1.522297 -0.185051 -0.663755 -1.622028       0\n",
       "3   -2.456481  0.465369 -1.577273 -1.419020       0\n",
       "4   -1.144619  0.340678 -2.581693 -0.672561       0\n",
       "..        ...       ...       ...       ...     ...\n",
       "235 -0.625473 -3.737695 -0.465147 -0.385898       1\n",
       "236 -0.026311 -4.756718 -1.793464 -0.072237       1\n",
       "237  0.661567 -4.479449 -3.114451 -0.627392       1\n",
       "238  0.998966 -3.650153 -3.745219 -1.088343       1\n",
       "239  0.877401 -1.853691 -3.329138 -1.109687       1\n",
       "\n",
       "[240 rows x 5 columns]"
      ]
     },
     "execution_count": 9,
     "metadata": {},
     "output_type": "execute_result"
    }
   ],
   "source": [
    "# Load the Parquet file\n",
    "validation_path = r\"C:\\Users\\Ferran\\Desktop\\TFM\\TFM_EEG\\DATASET\\MI\\SUB_2\\CSP\\Validation\\csp_features_labels_validation.parquet\"\n",
    "validation_data = pd.read_parquet(validation_path)\n",
    "\n",
    "# Display the first few rows of the DataFrame\n",
    "validation_data"
   ]
  },
  {
   "cell_type": "code",
   "execution_count": 10,
   "id": "a52ba8bf-7952-4b39-a46c-141ae2505bac",
   "metadata": {},
   "outputs": [
    {
     "name": "stdout",
     "output_type": "stream",
     "text": [
      "Counts of rows for each side:\n",
      "labels\n",
      "0    120\n",
      "1    120\n",
      "Name: count, dtype: int64\n"
     ]
    }
   ],
   "source": [
    "# Count the occurrences of each value in the 'side' column\n",
    "side_counts = validation_data['labels'].value_counts()\n",
    "\n",
    "print(\"Counts of rows for each side:\")\n",
    "print(side_counts)"
   ]
  },
  {
   "cell_type": "markdown",
   "id": "0902e488-19ef-4d6b-8e26-79e4800cc1b8",
   "metadata": {},
   "source": [
    "There are the same number of instances of right and left, this means that the validation dataset is equilibrated"
   ]
  },
  {
   "cell_type": "code",
   "execution_count": 11,
   "id": "13ec41bf-abf6-4dd5-811e-26f6f425b9c4",
   "metadata": {},
   "outputs": [],
   "source": [
    "def evaluate_model(model, X, y, label_encoder=None, model_name=\"Model\"):\n",
    "    \"\"\"\n",
    "    Trains, evaluates, and visualizes the performance of a classification model.\n",
    "\n",
    "    Parameters:\n",
    "    - model: A scikit-learn compatible classification model (e.g., DecisionTreeClassifier).\n",
    "    - X: Feature matrix (Pandas DataFrame or NumPy array).\n",
    "    - y: Target vector (Pandas Series or NumPy array).\n",
    "    - label_encoder: An optional LabelEncoder object for decoding labels. Required for visualization.\n",
    "    - model_name: A string representing the name of the model (e.g., \"KNN\", \"Decision Tree\").\n",
    "\n",
    "    Returns:\n",
    "    - metrics: A dictionary containing evaluation metrics (accuracy, precision, recall, roc_auc).\n",
    "    \"\"\"\n",
    "    # Ensure X is flattened if necessary\n",
    "    if isinstance(X, pd.DataFrame) or isinstance(X, np.ndarray):\n",
    "        if X.ndim == 1 or any(isinstance(row, (list, np.ndarray)) for row in X):\n",
    "            X = np.array([np.hstack(sample) if isinstance(sample, (list, np.ndarray)) else sample for sample in X])\n",
    "    \n",
    "    # Impute missing values\n",
    "    imputer = SimpleImputer(strategy='mean')\n",
    "    X_imputed = imputer.fit_transform(X)\n",
    "\n",
    "    # Train the model\n",
    "    model.fit(X_imputed, y)\n",
    "\n",
    "    # Predict on the dataset\n",
    "    y_pred = model.predict(X_imputed)\n",
    "    y_pred_proba = model.predict_proba(X_imputed)[:, 1] if hasattr(model, \"predict_proba\") else None\n",
    "\n",
    "    # Calculate metrics\n",
    "    accuracy = accuracy_score(y, y_pred)\n",
    "    precision = precision_score(y, y_pred, zero_division=0)\n",
    "    recall = recall_score(y, y_pred, zero_division=0)\n",
    "    roc_auc = roc_auc_score(y, y_pred_proba) if y_pred_proba is not None else None\n",
    "\n",
    "    metrics = {\n",
    "        \"accuracy\": accuracy,\n",
    "        \"precision\": precision,\n",
    "        \"recall\": recall,\n",
    "        \"roc_auc\": roc_auc,\n",
    "    }\n",
    "\n",
    "    # Print metrics\n",
    "    print(f\"{model_name} Evaluation Metrics:\")\n",
    "    for key, value in metrics.items():\n",
    "        print(f\"{key.capitalize()}: {value:.4f}\" if value is not None else f\"{key.capitalize()}: N/A\")\n",
    "\n",
    "    # Confusion Matrix\n",
    "    cm = confusion_matrix(y, y_pred)\n",
    "    cm_display = ConfusionMatrixDisplay(confusion_matrix=cm, display_labels=label_encoder.classes_ if label_encoder else None)\n",
    "    cm_display.plot()\n",
    "    plt.title(f\"{model_name} Confusion Matrix\")\n",
    "    plt.show()\n",
    "\n",
    "    # Classification Report Heatmap\n",
    "    report = classification_report(y, y_pred, output_dict=True)\n",
    "    report_df = pd.DataFrame(report).transpose()\n",
    "\n",
    "    plt.figure(figsize=(10, 6))\n",
    "    sns.heatmap(report_df.iloc[:-1, :-1], annot=True, cmap=\"YlGn\", fmt=\".2f\", cbar=True)\n",
    "    plt.title(f\"{model_name} Classification Report\")\n",
    "    plt.xticks(rotation=45)\n",
    "    plt.yticks(rotation=0)\n",
    "    plt.show()\n",
    "\n",
    "    return metrics\n"
   ]
  },
  {
   "cell_type": "code",
   "execution_count": 12,
   "id": "eb1eac5d-6819-4c12-8014-02bb3ec189f7",
   "metadata": {},
   "outputs": [
    {
     "name": "stdout",
     "output_type": "stream",
     "text": [
      "                                            features  labels\n",
      "0  [-1.8657101644767542, -0.5810279888791472, -1....       0\n",
      "1  [-3.9386550445071657, -0.2906482360478181, 0.0...       0\n",
      "2  [-1.5222966493155936, -0.18505078797703572, -0...       0\n",
      "3  [-2.456480809898026, 0.46536921694824634, -1.5...       0\n",
      "4  [-1.144618732400121, 0.34067842699034045, -2.5...       0\n"
     ]
    }
   ],
   "source": [
    "# ADDED CODE WHEN WORKING WITH 4 FEATURES\n",
    "\n",
    "# Combine features into a single column\n",
    "validation_data['features'] = validation_data[['0', '1', '2', '3']].values.tolist()\n",
    "\n",
    "# Drop the individual feature columns\n",
    "validation_data.drop(columns=['0', '1', '2', '3'], inplace=True)\n",
    "\n",
    "# Reorder columns so 'features' comes before 'labels'\n",
    "validation_data = validation_data[['features', 'labels']]\n",
    "\n",
    "# Check the resulting DataFrame\n",
    "print(validation_data.head())\n"
   ]
  },
  {
   "cell_type": "code",
   "execution_count": 13,
   "id": "363b4981-f110-4c12-ac92-333226f2fc83",
   "metadata": {},
   "outputs": [
    {
     "name": "stdout",
     "output_type": "stream",
     "text": [
      "Normalized features shape: (240, 4)\n"
     ]
    }
   ],
   "source": [
    "# Flatten and handle inconsistent lengths\n",
    "# Assume the features are 2D or nested; we need to flatten them\n",
    "X_val = [np.ravel(feature) for feature in validation_data['features']]\n",
    "\n",
    "\n",
    "# Find the maximum length of the flattened features\n",
    "max_length_val = max(len(x) for x in X_val)\n",
    "\n",
    "# Pad all feature arrays to the maximum length\n",
    "X_padded_val = np.array([np.pad(x, (0, max_length_val - len(x)), mode='constant') for x in X_val])\n",
    "\n",
    "# Extract labels and encode\n",
    "y = validation_data['labels']\n",
    "label_encoder = LabelEncoder()\n",
    "y_validation_encoded = label_encoder.fit_transform(y)\n",
    "\n",
    "# Flatten each nested array within X_padded\n",
    "X_flattened_val = np.array([np.hstack(sample) for sample in X_padded_val])\n",
    "\n",
    "scaler_val = StandardScaler()\n",
    "X_scaled_val = scaler_val.fit_transform(X_flattened_val)\n",
    "\n",
    "print(\"Normalized features shape:\", X_scaled_val.shape)\n"
   ]
  },
  {
   "cell_type": "markdown",
   "id": "ab2092f4-331b-4aa0-ba24-538fea7d8f03",
   "metadata": {},
   "source": [
    "## DECISION TREE"
   ]
  },
  {
   "cell_type": "code",
   "execution_count": 14,
   "id": "e8b08644-b8d9-43ed-b62b-5ad33616e21c",
   "metadata": {},
   "outputs": [
    {
     "name": "stdout",
     "output_type": "stream",
     "text": [
      "Decision Tree Evaluation Metrics:\n",
      "Accuracy: 1.0\n",
      "Precision: 1.0\n",
      "Recall: 1.0\n",
      "ROC AUC: 1.0\n",
      "Decision Tree Evaluation Metrics:\n",
      "Accuracy: 1.0000\n",
      "Precision: 1.0000\n",
      "Recall: 1.0000\n",
      "Roc_auc: 1.0000\n"
     ]
    },
    {
     "data": {
      "image/png": "[encoded data removed]",
      "text/plain": [
       "<Figure size 800x550 with 2 Axes>"
      ]
     },
     "metadata": {},
     "output_type": "display_data"
    },
    {
     "data": {
      "image/png": "[encoded data removed]",
      "text/plain": [
       "<Figure size 1000x600 with 2 Axes>"
      ]
     },
     "metadata": {},
     "output_type": "display_data"
    }
   ],
   "source": [
    "# Train a Decision Tree Classifier\n",
    "dt = DecisionTreeClassifier(random_state=42)\n",
    "dt.fit(X_scaled_val, y_validation_encoded)\n",
    "\n",
    "# Predict and evaluate\n",
    "y_pred = dt.predict(X_scaled_val)\n",
    "y_pred_proba = dt.predict_proba(X_scaled_val)[:, 1]\n",
    "\n",
    "accuracy = accuracy_score(y_validation_encoded, y_pred)\n",
    "precision = precision_score(y_validation_encoded, y_pred)\n",
    "recall = recall_score(y_validation_encoded, y_pred)\n",
    "roc_auc = roc_auc_score(y_validation_encoded, y_pred_proba)\n",
    "\n",
    "print(f\"Decision Tree Evaluation Metrics:\")\n",
    "print(f\"Accuracy: {accuracy}\")\n",
    "print(f\"Precision: {precision}\")\n",
    "print(f\"Recall: {recall}\")\n",
    "print(f\"ROC AUC: {roc_auc}\")\n",
    "\n",
    "dt_metrics = evaluate_model(dt, X_scaled_val, y_validation_encoded, label_encoder, model_name=\"Decision Tree\")\n"
   ]
  },
  {
   "cell_type": "markdown",
   "id": "28b55934-497f-41f3-b20c-e31f029c7c57",
   "metadata": {},
   "source": [
    "## KNN"
   ]
  },
  {
   "cell_type": "code",
   "execution_count": 15,
   "id": "4b9203e8-47ce-4dfb-8200-bda83825ee50",
   "metadata": {},
   "outputs": [
    {
     "name": "stdout",
     "output_type": "stream",
     "text": [
      "KNN Evaluation Metrics:\n",
      "Accuracy: 0.7333333333333333\n",
      "Precision: 0.7258064516129032\n",
      "Recall: 0.75\n",
      "ROC AUC: 0.8056249999999999\n",
      "KNN Evaluation:\n",
      "KNN Evaluation Metrics:\n",
      "Accuracy: 0.7333\n",
      "Precision: 0.7258\n",
      "Recall: 0.7500\n",
      "Roc_auc: 0.8056\n"
     ]
    },
    {
     "data": {
      "image/png": "[encoded data removed]",
      "text/plain": [
       "<Figure size 800x550 with 2 Axes>"
      ]
     },
     "metadata": {},
     "output_type": "display_data"
    },
    {
     "data": {
      "image/png": "[encoded data removed]",
      "text/plain": [
       "<Figure size 1000x600 with 2 Axes>"
      ]
     },
     "metadata": {},
     "output_type": "display_data"
    }
   ],
   "source": [
    "# K-Nearest Neighbors Classifier (KNN)\n",
    "knn = KNeighborsClassifier(n_neighbors=3)\n",
    "\n",
    "# Train KNN model\n",
    "knn.fit(X_scaled_val, y_validation_encoded)\n",
    "\n",
    "# Predict on the validation set\n",
    "y_pred_knn = knn.predict(X_scaled_val)\n",
    "y_pred_proba_knn = knn.predict_proba(X_scaled_val)[:, 1]  # Probability of class 1\n",
    "\n",
    "# Evaluation metrics for KNN\n",
    "accuracy_knn = accuracy_score(y_validation_encoded, y_pred_knn)\n",
    "precision_knn = precision_score(y_validation_encoded, y_pred_knn)\n",
    "recall_knn = recall_score(y_validation_encoded, y_pred_knn)\n",
    "roc_auc_knn = roc_auc_score(y_validation_encoded, y_pred_proba_knn)\n",
    "\n",
    "# Print evaluation metrics for KNN\n",
    "print(f\"KNN Evaluation Metrics:\")\n",
    "print(f\"Accuracy: {accuracy_knn}\")\n",
    "print(f\"Precision: {precision_knn}\")\n",
    "print(f\"Recall: {recall_knn}\")\n",
    "print(f\"ROC AUC: {roc_auc_knn}\")\n",
    "\n",
    "# Evaluate KNN using evaluate_model\n",
    "print(\"KNN Evaluation:\")\n",
    "knn_metrics = evaluate_model(knn, X_scaled_val, y_validation_encoded, label_encoder, model_name=\"KNN\")\n"
   ]
  },
  {
   "cell_type": "code",
   "execution_count": 16,
   "id": "21cb264f-c30a-468c-92b3-fb521bfff3d2",
   "metadata": {},
   "outputs": [
    {
     "data": {
      "text/plain": [
       "['trained_model_CSP.pkl']"
      ]
     },
     "execution_count": 16,
     "metadata": {},
     "output_type": "execute_result"
    }
   ],
   "source": [
    "# Example: Save model with joblib or Pickle\n",
    "import joblib\n",
    "joblib.dump(knn, 'trained_model_CSP.pkl')\n"
   ]
  },
  {
   "cell_type": "markdown",
   "id": "1595be12-64ff-432a-86ee-0812bea57702",
   "metadata": {},
   "source": [
    "<div class=\"alert alert-info\" role=\"alert\", style=\"border-radius: 70px\">\n",
    "    <h2 style=\"text-align: center; margin-top:0.5cm; margin-bottom:0.5cm; font-size:20px\">References</h2>\n",
    "</div>"
   ]
  },
  {
   "cell_type": "markdown",
   "id": "ce9f2de8-f7f6-4877-9148-4459079d4f83",
   "metadata": {},
   "source": [
    "[1]\tKhan J, Bhatti MH, Khan UG, Iqbal R. Multiclass EEG motor-imagery classification with sub-band common spatial patterns. EURASIP J Wirel Commun Netw [Internet]. 2019;2019(1). Available from: http://dx.doi.org/10.1186/s13638-019-1497-y\n",
    " \t \n",
    "[2]\tSaibene A, Caglioni M, Corchs S, Gasparini F. EEG-based BCIs on motor imagery paradigm using wearable technologies: A systematic review. Sensors (Basel) [Internet]. 2023;23(5):2798. Available from: https://www.mdpi.com/1424-8220/23/5/2798\n",
    " \t \n",
    "[3]\tWang Y, Gao S, Gao X. Common spatial pattern method for channel selelction in motor imagery based brain-computer interface. In: 2005 IEEE Engineering in Medicine and Biology 27th Annual Conference. IEEE; 2005. p. 5392–5.\n",
    " \t \n",
    "[4]\tOmari S, Omari A, Abderrahim M. Multiple tangent space projection for motor imagery EEG classification. Appl Intell [Internet]. 2023;53(18):21192–200. Available from: http://dx.doi.org/10.1007/s10489-023-04551-2\n",
    " \t \n",
    "[5]\tCasso M-I, Jeunet C, Roy RN. Heading for motor imagery brain-computer interfaces (MI-BCIs) usable out-of-the-lab: Impact of dry electrode setup on classification accuracy. In: 2021 10th International IEEE/EMBS Conference on Neural Engineering (NER). IEEE; 2021. p. 690–3.\n",
    " \t \n"
   ]
  }
 ],
 "metadata": {
  "kernelspec": {
   "display_name": "Python 3 (ipykernel)",
   "language": "python",
   "name": "python3"
  },
  "language_info": {
   "codemirror_mode": {
    "name": "ipython",
    "version": 3
   },
   "file_extension": ".py",
   "mimetype": "text/x-python",
   "name": "python",
   "nbconvert_exporter": "python",
   "pygments_lexer": "ipython3",
   "version": "3.11.6"
  }
 },
 "nbformat": 4,
 "nbformat_minor": 5
}
