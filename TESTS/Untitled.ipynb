{
 "cells": [
  {
   "cell_type": "code",
   "execution_count": 1,
   "id": "63e4a91d-8e13-4b55-bf89-19ec59f6fbb0",
   "metadata": {},
   "outputs": [],
   "source": [
    "# Install if not already installed\n",
    "# !pip install mne numpy\n",
    "\n",
    "import mne\n",
    "import numpy as np\n"
   ]
  },
  {
   "cell_type": "code",
   "execution_count": 2,
   "id": "6d283231-f085-4d78-a5d8-d33893297a61",
   "metadata": {},
   "outputs": [
    {
     "name": "stdout",
     "output_type": "stream",
     "text": [
      "Opening raw data file C:\\Users\\Ferran\\Desktop\\TFM\\TFM_EEG\\DATASET\\MI\\SUB_2\\ICA\\L\\S001\\sub-S001_L_eeg_raw.fif...\n",
      "    Range : 0 ... 46975 =      0.000 ...   183.507 secs\n",
      "Ready.\n",
      "Reading 0 ... 46975  =      0.000 ...   183.507 secs...\n",
      "<Raw | sub-S001_L_eeg_raw.fif, 10 x 46976 (183.5 s), ~3.6 MB, data loaded>\n",
      "Sampling Rate: 255.9844207763672 Hz\n",
      "Data Duration: 183.51116781844752 seconds\n"
     ]
    }
   ],
   "source": [
    "# Replace with the path to your EEG file\n",
    "eeg_file_path = r\"C:\\Users\\Ferran\\Desktop\\TFM\\TFM_EEG\\DATASET\\MI\\SUB_2\\ICA\\L\\S001\\sub-S001_L_eeg_raw.fif\"\n",
    "\n",
    "# Load EEG data\n",
    "raw = mne.io.read_raw_fif(eeg_file_path, preload=True)\n",
    "print(raw)  # Print basic information about the data\n",
    "\n",
    "# Display the sampling rate and data duration\n",
    "sampling_rate = raw.info['sfreq']\n",
    "duration = raw.n_times / sampling_rate\n",
    "print(f\"Sampling Rate: {sampling_rate} Hz\")\n",
    "print(f\"Data Duration: {duration} seconds\")\n"
   ]
  },
  {
   "cell_type": "code",
   "execution_count": 6,
   "id": "7675a666-db5c-4eec-ab18-e5fbce4f850b",
   "metadata": {},
   "outputs": [
    {
     "name": "stdout",
     "output_type": "stream",
     "text": [
      "['event_timestamps', 'data_segments']\n",
      "Event Times (in seconds): [60056.88628932 60056.90782833 60056.92939273 60056.95094274\n",
      " 60056.97248619 60056.99403929 60057.01558735 60057.03714486\n",
      " 60057.05870241 60057.08020559 60057.10178829 60057.12340048\n",
      " 60057.14489042 60057.16645217 60057.18799177 60057.20947581\n",
      " 60057.23102888 60057.25258716 60057.27413159 60057.29568017\n",
      " 60057.31722883 60057.33878517 60057.36040447 60057.38195098\n",
      " 60057.40349928 60057.42505293 60057.44660302 60057.46815729\n",
      " 60057.48969847 60057.5111833 ]\n"
     ]
    }
   ],
   "source": [
    "# Replace with the path to your event data file\n",
    "event_file_path = r\"C:\\Users\\Ferran\\Desktop\\TFM\\TFM_EEG\\DATASET\\MI\\SUB_2\\ICA\\L\\S001\\sub-S001_L_event_data.npz\"\n",
    "\n",
    "# Load event data\n",
    "event_data = np.load(event_file_path)\n",
    "print(event_data.files)  # Display keys to check what data is stored\n",
    "\n",
    "# Extract event times (assuming 'event_times' is the key for times in the .npz)\n",
    "event_times = event_data['event_timestamps']  # Adjust if the key is different\n",
    "\n",
    "# Convert event times to seconds if necessary\n",
    "event_times_sec = event_times / sampling_rate\n",
    "\n",
    "print(\"Event Times (in seconds):\", event_times_sec)\n"
   ]
  },
  {
   "cell_type": "code",
   "execution_count": 7,
   "id": "63c2bf75-99c6-4e03-aa8e-279c466dccaf",
   "metadata": {},
   "outputs": [
    {
     "name": "stdout",
     "output_type": "stream",
     "text": [
      "Out of bounds events found:\n",
      "[60056.88628932 60056.90782833 60056.92939273 60056.95094274\n",
      " 60056.97248619 60056.99403929 60057.01558735 60057.03714486\n",
      " 60057.05870241 60057.08020559 60057.10178829 60057.12340048\n",
      " 60057.14489042 60057.16645217 60057.18799177 60057.20947581\n",
      " 60057.23102888 60057.25258716 60057.27413159 60057.29568017\n",
      " 60057.31722883 60057.33878517 60057.36040447 60057.38195098\n",
      " 60057.40349928 60057.42505293 60057.44660302 60057.46815729\n",
      " 60057.48969847 60057.5111833 ]\n"
     ]
    }
   ],
   "source": [
    "# Identify events that are out of bounds\n",
    "out_of_bounds_events = event_times_sec[(event_times_sec < 0) | (event_times_sec > duration)]\n",
    "\n",
    "if len(out_of_bounds_events) > 0:\n",
    "    print(\"Out of bounds events found:\")\n",
    "    print(out_of_bounds_events)\n",
    "else:\n",
    "    print(\"All events are within the EEG data duration.\")\n"
   ]
  },
  {
   "cell_type": "code",
   "execution_count": 12,
   "id": "f11ee77b-c447-4d3b-995b-93bfe332e602",
   "metadata": {},
   "outputs": [
    {
     "name": "stdout",
     "output_type": "stream",
     "text": [
      "Adjusted Event Times (in seconds): [  0.           5.51365075  11.0337993   16.55026634  22.06505479\n",
      "  27.58231324  33.09828029  38.61666694  44.13506258  49.63954403\n",
      "  55.16437738  60.69676162  66.19785137  71.71732292  77.23112537\n",
      "  82.73070422  88.24795537  93.76653882  99.28157796 104.79767791\n",
      " 110.31379946 115.83188631 121.36609145 126.8816628  132.39769005\n",
      " 137.9150892  143.43157635 148.94913459 154.46333964 159.96312159]\n",
      "All events are within the EEG data duration.\n"
     ]
    }
   ],
   "source": [
    "# Option 3: If timestamps need an offset adjustment, subtract the minimum timestamp\n",
    "event_times_sec = event_times - event_times.min()\n",
    "print(\"Adjusted Event Times (in seconds):\", event_times_sec)\n",
    "\n",
    "# Check for out-of-bounds events\n",
    "out_of_bounds_events = event_times_sec[(event_times_sec < 0) | (event_times_sec > duration)]\n",
    "if len(out_of_bounds_events) > 0:\n",
    "    print(\"Out of bounds events found:\")\n",
    "    print(out_of_bounds_events)\n",
    "else:\n",
    "    print(\"All events are within the EEG data duration.\")\n"
   ]
  },
  {
   "cell_type": "code",
   "execution_count": 13,
   "id": "a5c28687-d93c-4dce-b93a-f1c47a87d14d",
   "metadata": {},
   "outputs": [
    {
     "data": {
      "text/plain": [
       "<mne_qt_browser._pg_figure.MNEQtBrowser at 0x24f98b3d1b0>"
      ]
     },
     "execution_count": 13,
     "metadata": {},
     "output_type": "execute_result"
    }
   ],
   "source": [
    "# Create an MNE events array if events are within bounds (needed for plotting)\n",
    "# Assuming event markers are simply '1' and no other info is required, adjust if necessary\n",
    "events_array = np.array([[int(time * sampling_rate), 0, 1] for time in event_times_sec])\n",
    "\n",
    "# Plot EEG data with events\n",
    "raw.plot(events=events_array, title=\"EEG Data with Events\")\n"
   ]
  }
 ],
 "metadata": {
  "kernelspec": {
   "display_name": "Python 3 (ipykernel)",
   "language": "python",
   "name": "python3"
  },
  "language_info": {
   "codemirror_mode": {
    "name": "ipython",
    "version": 3
   },
   "file_extension": ".py",
   "mimetype": "text/x-python",
   "name": "python",
   "nbconvert_exporter": "python",
   "pygments_lexer": "ipython3",
   "version": "3.11.6"
  }
 },
 "nbformat": 4,
 "nbformat_minor": 5
}
